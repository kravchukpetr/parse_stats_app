{
 "cells": [
  {
   "cell_type": "code",
   "execution_count": 1,
   "id": "637dd4c5",
   "metadata": {},
   "outputs": [],
   "source": [
    "%load_ext autoreload\n",
    "%autoreload 2"
   ]
  },
  {
   "cell_type": "code",
   "execution_count": 2,
   "id": "797f96d2",
   "metadata": {},
   "outputs": [],
   "source": [
    "import SportParseLib as spl\n",
    "import time"
   ]
  },
  {
   "cell_type": "code",
   "execution_count": null,
   "id": "ef641448",
   "metadata": {},
   "outputs": [
    {
     "name": "stdout",
     "output_type": "stream",
     "text": [
      "data/teams_league_236_season_2021.json\n",
      "Teams loaded from league 236 and season 2021\n",
      "Fixtures loaded from league 236 and season 2021\n",
      "Pause after league 236, season 2021...\n",
      "data/teams_league_236_season_2022.json\n",
      "Teams loaded from league 236 and season 2022\n",
      "Fixtures loaded from league 236 and season 2022\n",
      "Pause after league 236, season 2022...\n",
      "data/teams_league_236_season_2023.json\n",
      "Teams loaded from league 236 and season 2023\n",
      "Fixtures loaded from league 236 and season 2023\n",
      "Pause after league 236, season 2023...\n",
      "data/teams_league_140_season_2021.json\n",
      "Teams loaded from league 140 and season 2021\n",
      "Fixtures loaded from league 140 and season 2021\n",
      "Pause after league 140, season 2021...\n",
      "data/teams_league_140_season_2022.json\n",
      "Teams loaded from league 140 and season 2022\n",
      "Fixtures loaded from league 140 and season 2022\n",
      "Pause after league 140, season 2022...\n",
      "data/teams_league_140_season_2023.json\n",
      "Teams loaded from league 140 and season 2023\n",
      "Fixtures loaded from league 140 and season 2023\n",
      "Pause after league 140, season 2023...\n",
      "data/teams_league_141_season_2021.json\n",
      "Teams loaded from league 141 and season 2021\n",
      "Fixtures loaded from league 141 and season 2021\n",
      "Pause after league 141, season 2021...\n",
      "data/teams_league_141_season_2022.json\n",
      "Teams loaded from league 141 and season 2022\n",
      "Fixtures loaded from league 141 and season 2022\n",
      "Pause after league 141, season 2022...\n",
      "data/teams_league_141_season_2023.json\n",
      "Teams loaded from league 141 and season 2023\n",
      "Fixtures loaded from league 141 and season 2023\n",
      "Pause after league 141, season 2023...\n",
      "data/teams_league_203_season_2021.json\n",
      "Teams loaded from league 203 and season 2021\n",
      "Fixtures loaded from league 203 and season 2021\n",
      "Pause after league 203, season 2021...\n",
      "data/teams_league_203_season_2022.json\n",
      "Teams loaded from league 203 and season 2022\n",
      "Fixtures loaded from league 203 and season 2022\n",
      "Pause after league 203, season 2022...\n",
      "data/teams_league_203_season_2023.json\n",
      "Teams loaded from league 203 and season 2023\n",
      "Fixtures loaded from league 203 and season 2023\n",
      "Pause after league 203, season 2023...\n",
      "data/teams_league_204_season_2021.json\n",
      "Teams loaded from league 204 and season 2021\n",
      "Fixtures loaded from league 204 and season 2021\n",
      "Pause after league 204, season 2021...\n",
      "data/teams_league_204_season_2022.json\n",
      "Teams loaded from league 204 and season 2022\n",
      "Fixtures loaded from league 204 and season 2022\n",
      "Pause after league 204, season 2022...\n",
      "data/teams_league_204_season_2023.json\n",
      "Teams loaded from league 204 and season 2023\n",
      "Fixtures loaded from league 204 and season 2023\n",
      "Pause after league 204, season 2023...\n"
     ]
    }
   ],
   "source": [
    "is_debug = True\n",
    "# spl.load_leagues(is_debug)\n",
    "leagues = [39, 40, 61, 62, 78, 79, 135, 136, 88, 89, 94, 95, 235, 236, 140, 141, 203, 204]\n",
    "# leagues = [236, 140, 141, 203, 204]\n",
    "seasons = [2021, 2022, 2023]\n",
    "for league in leagues:\n",
    "    for season in seasons:\n",
    "        input_params = {\n",
    "            \"league\": league,\n",
    "            \"season\": season\n",
    "        }\n",
    "        try:            \n",
    "            spl.load_teams(input_params, is_debug)\n",
    "            spl.load_fixtures(input_params, is_debug)\n",
    "            print(f\"Pause after league {league}, season {season}...\")\n",
    "            time.sleep(30)\n",
    "        except Exception as e:\n",
    "            print(f\"Error processing league {league}, season {season}: {e}\")\n",
    "            continue"
   ]
  }
 ],
 "metadata": {
  "kernelspec": {
   "display_name": ".venv",
   "language": "python",
   "name": "python3"
  },
  "language_info": {
   "codemirror_mode": {
    "name": "ipython",
    "version": 3
   },
   "file_extension": ".py",
   "mimetype": "text/x-python",
   "name": "python",
   "nbconvert_exporter": "python",
   "pygments_lexer": "ipython3",
   "version": "3.11.2"
  }
 },
 "nbformat": 4,
 "nbformat_minor": 5
}
